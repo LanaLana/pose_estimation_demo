{
 "cells": [
  {
   "cell_type": "code",
   "execution_count": null,
   "metadata": {},
   "outputs": [],
   "source": [
    "import numpy as np\n",
    "import os\n",
    "import cv2\n",
    "import json\n",
    "import glob\n",
    "from PIL import Image\n",
    "\n",
    "import youtube_dl\n",
    "from __future__ import unicode_literals"
   ]
  },
  {
   "cell_type": "markdown",
   "metadata": {},
   "source": [
    "## Download video from youtube"
   ]
  },
  {
   "cell_type": "code",
   "execution_count": 1,
   "metadata": {},
   "outputs": [
    {
     "name": "stdout",
     "output_type": "stream",
     "text": [
      "[youtube] 1ovAjgh2ezM: Downloading webpage\n",
      "[youtube] 1ovAjgh2ezM: Downloading player 3804dce2\n",
      "[download] Destination: 100 лет за три минуты — история танца-1ovAjgh2ezM.mp4\n",
      "[download] 100% of 10.95MiB in 00:0015MiB/s ETA 00:001\n"
     ]
    }
   ],
   "source": [
    "ydl_opts = {}\n",
    "with youtube_dl.YoutubeDL(ydl_opts) as ydl:\n",
    "    ydl.download(['https://www.youtube.com/watch?v=1ovAjgh2ezM'])"
   ]
  },
  {
   "cell_type": "code",
   "execution_count": 15,
   "metadata": {},
   "outputs": [],
   "source": [
    "vidcap = cv2.VideoCapture('100 лет за три минуты — история танца-1ovAjgh2ezM.mp4')\n",
    "fps    = vidcap.get(cv2.CAP_PROP_FPS)"
   ]
  },
  {
   "cell_type": "code",
   "execution_count": 16,
   "metadata": {},
   "outputs": [
    {
     "name": "stdout",
     "output_type": "stream",
     "text": [
      "fps: 25.0\n",
      "length_of_video: 5003\n",
      "width: 640\n",
      "height: 360\n"
     ]
    }
   ],
   "source": [
    "length_of_video = int(vidcap.get(cv2.CAP_PROP_FRAME_COUNT))\n",
    "width  = int(vidcap.get(cv2.CAP_PROP_FRAME_WIDTH))\n",
    "height = int(vidcap.get(cv2.CAP_PROP_FRAME_HEIGHT))\n",
    "print('fps:', fps)\n",
    "print('length_of_video:', length_of_video)\n",
    "print('width:', width)\n",
    "print('height:', height)"
   ]
  },
  {
   "cell_type": "code",
   "execution_count": null,
   "metadata": {},
   "outputs": [],
   "source": [
    "success,image = vidcap.read()\n",
    "count = 0\n",
    "while success:\n",
    "    cv2.imwrite(\"frames/frame_%d.jpg\" % count, image)     # save frame as JPEG file      \n",
    "    success,image = vidcap.read()\n",
    "    #print('Read a new frame: ', success)\n",
    "    count += 1\n",
    "    #break"
   ]
  },
  {
   "cell_type": "markdown",
   "metadata": {},
   "source": [
    "## Pose estimation"
   ]
  },
  {
   "cell_type": "code",
   "execution_count": 23,
   "metadata": {},
   "outputs": [],
   "source": [
    "frames_list = ['frames/' + item for item in os.listdir('frames/') if 'ipynb_checkpoints' not in item]\n",
    "frames_list = ' '.join(frames_list)"
   ]
  },
  {
   "cell_type": "code",
   "execution_count": 109,
   "metadata": {},
   "outputs": [],
   "source": [
    "# test image\n",
    "img_pth = 'frames/frame_2115.jpg' "
   ]
  },
  {
   "cell_type": "code",
   "execution_count": 50,
   "metadata": {},
   "outputs": [],
   "source": [
    "# make predictions\n",
    "! python lightweight-human-pose-estimation.pytorch/demo.py --checkpoint-path weights/checkpoint_iter_370000.pth --images $frames_list"
   ]
  },
  {
   "cell_type": "code",
   "execution_count": 75,
   "metadata": {},
   "outputs": [],
   "source": [
    "# write json for future processing \n",
    "data = {}\n",
    "counter = 0\n",
    "img_list = []\n",
    "\n",
    "pose_frames = os.listdir('./processed/')\n",
    "for i in range(5003):\n",
    "    if 'frame_{}_0.jpg'.format(i) in pose_frames:\n",
    "        counter += 1\n",
    "        img_new = './processed/frame_{}_0.jpg'.format(str(i))\n",
    "        img_list = [img_new] + img_list[:9]\n",
    "    if 'frame_{}_1.jpg'.format(i) in pose_frames:\n",
    "        counter += 1\n",
    "        img_new = './processed/frame_{}_1.jpg'.format(str(i))\n",
    "        img_list = [img_new] + img_list[:9]\n",
    "    data[i] = {'hands up': counter,\n",
    "              'last 10': img_list}\n",
    "    \n",
    "with open('pose_estimation.json', 'w') as f:\n",
    "    json.dump(data, f)"
   ]
  },
  {
   "cell_type": "markdown",
   "metadata": {},
   "source": [
    "## Create concatenated frames"
   ]
  },
  {
   "cell_type": "code",
   "execution_count": 52,
   "metadata": {},
   "outputs": [],
   "source": [
    "data = {}\n",
    "counter = 0\n",
    "img_list = ['./concatenated_frames/background.jpg'] * 10\n",
    "\n",
    "pose_frames = os.listdir('./processed/')\n",
    "for i in range(5003):\n",
    "    if 'frame_{}_0.jpg'.format(i) in pose_frames:\n",
    "        counter += 1\n",
    "        img_new = './processed/frame_{}_0.jpg'.format(str(i))\n",
    "        img_list = [img_new] + img_list[:9]\n",
    "    if 'frame_{}_1.jpg'.format(i) in pose_frames:\n",
    "        counter += 1\n",
    "        img_new = './processed/frame_{}_1.jpg'.format(str(i))\n",
    "        img_list = [img_new] + img_list[:9]\n",
    "    data[i] = {'hands up': counter,\n",
    "              'last 10': img_list}"
   ]
  },
  {
   "cell_type": "code",
   "execution_count": 86,
   "metadata": {},
   "outputs": [],
   "source": [
    "def get_concat(img_list):\n",
    "    dst = Image.new('RGB', (250, 200))\n",
    "    for h in range(2):\n",
    "        for w in range(5):\n",
    "            dst.paste(img_list[h*5 + w], (50*w, 100*h))\n",
    "    return dst\n",
    "\n",
    "for i in range(5003):\n",
    "    img_list = []\n",
    "    for img_pth in data[i]['last 10']:\n",
    "        im1 = Image.open(img_pth)\n",
    "        size = int((im1.width / max(im1.width, im1.height))* 100.), int((im1.height / max(im1.width, im1.height))* 100.)\n",
    "        img_list += [im1.resize(size, Image.ANTIALIAS)]\n",
    "    \n",
    "    get_concat(img_list).save('concatenated_frames/frame_{}.jpg'.format(i))"
   ]
  },
  {
   "cell_type": "markdown",
   "metadata": {},
   "source": [
    "## Run server"
   ]
  },
  {
   "cell_type": "code",
   "execution_count": 98,
   "metadata": {
    "jupyter": {
     "outputs_hidden": true
    },
    "scrolled": true
   },
   "outputs": [
    {
     "name": "stdout",
     "output_type": "stream",
     "text": [
      " * Serving Flask app 'app' (lazy loading)\n",
      " * Environment: production\n",
      "\u001b[31m   WARNING: This is a development server. Do not use it in a production deployment.\u001b[0m\n",
      "\u001b[2m   Use a production WSGI server instead.\u001b[0m\n",
      " * Debug mode: on\n",
      " * Running on all addresses.\n",
      "   WARNING: This is a development server. Do not use it in a production deployment.\n",
      " * Running on http://192.168.1.77:5000/ (Press CTRL+C to quit)\n",
      " * Restarting with stat\n",
      " * Debugger is active!\n",
      " * Debugger PIN: 126-150-024\n",
      "192.168.1.77 - - [26/Jul/2021 19:42:46] \"GET / HTTP/1.1\" 200 -\n",
      "192.168.1.77 - - [26/Jul/2021 19:42:46] \"POST /get_data HTTP/1.1\" 200 -\n",
      "192.168.1.77 - - [26/Jul/2021 19:42:47] \"GET /image_feed HTTP/1.1\" 200 -\n",
      "192.168.1.77 - - [26/Jul/2021 19:42:48] \"GET /video_feed HTTP/1.1\" 200 -\n",
      "192.168.1.77 - - [26/Jul/2021 19:42:49] \"POST /get_data HTTP/1.1\" 200 -\n",
      "192.168.1.77 - - [26/Jul/2021 19:42:52] \"POST /get_data HTTP/1.1\" 200 -\n",
      "192.168.1.77 - - [26/Jul/2021 19:42:55] \"POST /get_data HTTP/1.1\" 200 -\n",
      "192.168.1.77 - - [26/Jul/2021 19:42:58] \"POST /get_data HTTP/1.1\" 200 -\n",
      "192.168.1.77 - - [26/Jul/2021 19:43:01] \"POST /get_data HTTP/1.1\" 200 -\n",
      "192.168.1.77 - - [26/Jul/2021 19:43:04] \"POST /get_data HTTP/1.1\" 200 -\n",
      "192.168.1.77 - - [26/Jul/2021 19:43:07] \"POST /get_data HTTP/1.1\" 200 -\n",
      "192.168.1.77 - - [26/Jul/2021 19:43:10] \"POST /get_data HTTP/1.1\" 200 -\n",
      "192.168.1.77 - - [26/Jul/2021 19:43:13] \"POST /get_data HTTP/1.1\" 200 -\n",
      "192.168.1.77 - - [26/Jul/2021 19:43:16] \"POST /get_data HTTP/1.1\" 200 -\n",
      "192.168.1.77 - - [26/Jul/2021 19:43:19] \"POST /get_data HTTP/1.1\" 200 -\n",
      "192.168.1.77 - - [26/Jul/2021 19:43:22] \"POST /get_data HTTP/1.1\" 200 -\n",
      "192.168.1.77 - - [26/Jul/2021 19:43:25] \"POST /get_data HTTP/1.1\" 200 -\n",
      "192.168.1.77 - - [26/Jul/2021 19:43:28] \"POST /get_data HTTP/1.1\" 200 -\n",
      "192.168.1.77 - - [26/Jul/2021 19:43:31] \"POST /get_data HTTP/1.1\" 200 -\n",
      "192.168.1.77 - - [26/Jul/2021 19:43:34] \"POST /get_data HTTP/1.1\" 200 -\n",
      "192.168.1.77 - - [26/Jul/2021 19:43:37] \"POST /get_data HTTP/1.1\" 200 -\n",
      "192.168.1.77 - - [26/Jul/2021 19:43:40] \"POST /get_data HTTP/1.1\" 200 -\n",
      "192.168.1.77 - - [26/Jul/2021 19:43:43] \"POST /get_data HTTP/1.1\" 200 -\n",
      "192.168.1.77 - - [26/Jul/2021 19:43:46] \"POST /get_data HTTP/1.1\" 200 -\n",
      "192.168.1.77 - - [26/Jul/2021 19:43:49] \"POST /get_data HTTP/1.1\" 200 -\n",
      "192.168.1.77 - - [26/Jul/2021 19:43:52] \"POST /get_data HTTP/1.1\" 200 -\n",
      "192.168.1.77 - - [26/Jul/2021 19:43:55] \"POST /get_data HTTP/1.1\" 200 -\n",
      "192.168.1.77 - - [26/Jul/2021 19:43:58] \"POST /get_data HTTP/1.1\" 200 -\n",
      "^C\n"
     ]
    }
   ],
   "source": [
    "! python app.py"
   ]
  },
  {
   "cell_type": "markdown",
   "metadata": {},
   "source": [
    "## Save mp4"
   ]
  },
  {
   "cell_type": "code",
   "execution_count": 107,
   "metadata": {},
   "outputs": [],
   "source": [
    "img_array = []\n",
    "for i in range(5003):\n",
    "    filename = 'frames_with_pose/frame_{}.jpg'.format(i)\n",
    "    img = cv2.imread(filename)\n",
    "    height, width, layers = img.shape\n",
    "    size = (width,height)\n",
    "    img_array.append(img)\n",
    " \n",
    " \n",
    "out = cv2.VideoWriter('project.mp4',cv2.VideoWriter_fourcc(*'DIVX'), 15, size)\n",
    " \n",
    "for i in range(len(img_array)):\n",
    "    out.write(img_array[i])\n",
    "out.release()"
   ]
  },
  {
   "cell_type": "markdown",
   "metadata": {},
   "source": [
    "## Save gif"
   ]
  },
  {
   "cell_type": "code",
   "execution_count": 103,
   "metadata": {},
   "outputs": [],
   "source": [
    "def make_gif(frame_folder):\n",
    "    filename = []\n",
    "    for i in range(5003):\n",
    "        filename += ['frames_with_pose/frame_{}.jpg'.format(i)]\n",
    "    frames = [Image.open(image) for image in filename[:1000]]\n",
    "    frame_one = frames[0]\n",
    "    frame_one.save(\"flask_demo.gif\", format=\"GIF\", append_images=frames,\n",
    "                   save_all=True, duration=50, loop=0)\n",
    "    \n",
    "if __name__ == \"__main__\":\n",
    "    make_gif(\"output\")"
   ]
  },
  {
   "cell_type": "code",
   "execution_count": null,
   "metadata": {},
   "outputs": [],
   "source": []
  }
 ],
 "metadata": {
  "kernelspec": {
   "display_name": "Python 3",
   "language": "python",
   "name": "python3"
  },
  "language_info": {
   "codemirror_mode": {
    "name": "ipython",
    "version": 3
   },
   "file_extension": ".py",
   "mimetype": "text/x-python",
   "name": "python",
   "nbconvert_exporter": "python",
   "pygments_lexer": "ipython3",
   "version": "3.8.3"
  }
 },
 "nbformat": 4,
 "nbformat_minor": 4
}
